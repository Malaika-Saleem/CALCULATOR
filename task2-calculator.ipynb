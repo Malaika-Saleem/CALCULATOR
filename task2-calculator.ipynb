{
 "cells": [
  {
   "cell_type": "code",
   "execution_count": null,
   "id": "ca012d60",
   "metadata": {},
   "outputs": [],
   "source": [
    "#task 2: Calculator\n",
    "\n",
    "num1=int(input(\"Enter first number: \"))\n",
    "op=input(\"Enter operation to perform(+,-,*,/): \")\n",
    "num2=int(input(\"Enter second number: \"))\n",
    "if(op=='+'):\n",
    "    result=num1+num2\n",
    "elif(op=='-'):\n",
    "    result=num1-num2\n",
    "elif(op=='*'):\n",
    "    result=num1*num2\n",
    "elif(op=='/'):\n",
    "    result=num1/num2\n",
    "print(\"RESULT = \",result)"
   ]
  }
 ],
 "metadata": {
  "kernelspec": {
   "display_name": "Python 3 (ipykernel)",
   "language": "python",
   "name": "python3"
  },
  "language_info": {
   "codemirror_mode": {
    "name": "ipython",
    "version": 3
   },
   "file_extension": ".py",
   "mimetype": "text/x-python",
   "name": "python",
   "nbconvert_exporter": "python",
   "pygments_lexer": "ipython3",
   "version": "3.11.4"
  }
 },
 "nbformat": 4,
 "nbformat_minor": 5
}
